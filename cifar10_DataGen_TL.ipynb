{
  "cells": [
    {
      "cell_type": "code",
      "execution_count": null,
      "metadata": {
        "colab": {
          "base_uri": "https://localhost:8080/",
          "height": 36
        },
        "id": "fUcy81dlz_Lm",
        "outputId": "3fd2d87b-8c77-4fb9-a17f-7aba0bca0e7b"
      },
      "outputs": [
        {
          "output_type": "execute_result",
          "data": {
            "text/plain": [
              "'2.11.0'"
            ],
            "application/vnd.google.colaboratory.intrinsic+json": {
              "type": "string"
            }
          },
          "metadata": {},
          "execution_count": 1
        }
      ],
      "source": [
        "import tensorflow.keras as keras\n",
        "keras.__version__"
      ]
    },
    {
      "cell_type": "code",
      "execution_count": null,
      "metadata": {
        "id": "tEwQFo9Jz_Ls"
      },
      "outputs": [],
      "source": [
        "from tensorflow.keras import layers\n",
        "from tensorflow.keras import models\n",
        "\n",
        "model = models.Sequential()\n",
        "model.add(layers.Conv2D(32, (3, 3), activation='relu', input_shape=(32, 32, 3)))\n",
        "model.add(layers.MaxPooling2D((2, 2)))\n",
        "model.add(layers.Conv2D(64, (3, 3), activation='relu'))\n",
        "model.add(layers.MaxPooling2D((2, 2)))\n",
        "model.add(layers.Conv2D(64, (3, 3), activation='relu'))"
      ]
    },
    {
      "cell_type": "markdown",
      "metadata": {
        "id": "9r-rNQ5O1KPo"
      },
      "source": [
        "![Conv_basics](https://www.researchgate.net/publication/326963855/figure/fig2/AS:658367580213249@1533978471914/The-sub-convolution-pooling-neural-network.png)\n"
      ]
    },
    {
      "cell_type": "markdown",
      "metadata": {
        "id": "nYzY6KjWz_Lv"
      },
      "source": [
        "Let's display the architecture of our convnet so far:"
      ]
    },
    {
      "cell_type": "code",
      "execution_count": null,
      "metadata": {
        "colab": {
          "base_uri": "https://localhost:8080/"
        },
        "id": "QymgEKDMz_Lw",
        "outputId": "acf8e63f-1b69-477c-fab6-8ad8e47063fd"
      },
      "outputs": [
        {
          "name": "stdout",
          "output_type": "stream",
          "text": [
            "Model: \"sequential_1\"\n",
            "_________________________________________________________________\n",
            " Layer (type)                Output Shape              Param #   \n",
            "=================================================================\n",
            " conv2d_3 (Conv2D)           (None, 30, 30, 32)        896       \n",
            "                                                                 \n",
            " max_pooling2d_2 (MaxPooling  (None, 15, 15, 32)       0         \n",
            " 2D)                                                             \n",
            "                                                                 \n",
            " conv2d_4 (Conv2D)           (None, 13, 13, 64)        18496     \n",
            "                                                                 \n",
            " max_pooling2d_3 (MaxPooling  (None, 6, 6, 64)         0         \n",
            " 2D)                                                             \n",
            "                                                                 \n",
            " conv2d_5 (Conv2D)           (None, 4, 4, 64)          36928     \n",
            "                                                                 \n",
            "=================================================================\n",
            "Total params: 56,320\n",
            "Trainable params: 56,320\n",
            "Non-trainable params: 0\n",
            "_________________________________________________________________\n"
          ]
        }
      ],
      "source": [
        "model.summary()"
      ]
    },
    {
      "cell_type": "markdown",
      "metadata": {
        "collapsed": true,
        "id": "dcGrFxNZz_L1"
      },
      "source": [
        "You can see above that the output of every `Conv2D` and `MaxPooling2D` layer is a 3D tensor of shape `(height, width, channels)`. The width \n",
        "and height dimensions tend to shrink as we go deeper in the network. The number of channels is controlled by the first argument passed to \n",
        "the `Conv2D` layers (e.g. 32 or 64).\n",
        "\n",
        "The next step would be to feed our last output tensor (of shape `(3, 3, 64)`) into a densely-connected classifier network like those you are \n",
        "already familiar with: a stack of `Dense` layers. These classifiers process vectors, which are 1D, whereas our current output is a 3D tensor. \n",
        "So first, we will have to flatten our 3D outputs to 1D, and then add a few `Dense` layers on top:"
      ]
    },
    {
      "cell_type": "code",
      "execution_count": null,
      "metadata": {
        "id": "_RipSLzdz_L1"
      },
      "outputs": [],
      "source": [
        "model.add(layers.Flatten())\n",
        "model.add(layers.Dense(64, activation='relu'))\n",
        "model.add(layers.Dense(10, activation='softmax'))"
      ]
    },
    {
      "cell_type": "markdown",
      "metadata": {
        "id": "y4YBqRIy1cOs"
      },
      "source": [
        "![Conv_dense](https://miro.medium.com/max/2000/0*HWj5PgxWxdcld_ye)"
      ]
    },
    {
      "cell_type": "markdown",
      "metadata": {
        "id": "vDWqS5pJz_L5"
      },
      "source": [
        "We are going to do 10-way classification, so we use a final layer with 10 outputs and a softmax activation. Now here's what our network \n",
        "looks like:"
      ]
    },
    {
      "cell_type": "code",
      "execution_count": null,
      "metadata": {
        "id": "hOrYT-IzM8M7"
      },
      "outputs": [],
      "source": [
        "from tensorflow.keras import layers\n",
        "from tensorflow.keras import models\n",
        "\n",
        "model = models.Sequential()\n",
        "model.add(layers.Conv2D(32, (3, 3), activation='relu', input_shape=(32, 32, 3)))\n",
        "model.add(layers.MaxPooling2D((2, 2)))\n",
        "model.add(layers.Conv2D(64, (3, 3), activation='relu'))\n",
        "model.add(layers.MaxPooling2D((2, 2)))\n",
        "model.add(layers.Conv2D(64, (3, 3), activation='relu'))\n",
        "model.add(layers.Flatten())\n",
        "model.add(layers.Dense(64, activation='relu'))\n",
        "model.add(layers.Dense(10, activation='softmax'))"
      ]
    },
    {
      "cell_type": "code",
      "execution_count": null,
      "metadata": {
        "colab": {
          "base_uri": "https://localhost:8080/"
        },
        "id": "XevNOC2oz_L7",
        "outputId": "629f901f-73c9-4f3b-c14a-bd2a583d33ea"
      },
      "outputs": [
        {
          "output_type": "stream",
          "name": "stdout",
          "text": [
            "Model: \"sequential\"\n",
            "_________________________________________________________________\n",
            " Layer (type)                Output Shape              Param #   \n",
            "=================================================================\n",
            " conv2d (Conv2D)             (None, 30, 30, 32)        896       \n",
            "                                                                 \n",
            " max_pooling2d (MaxPooling2D  (None, 15, 15, 32)       0         \n",
            " )                                                               \n",
            "                                                                 \n",
            " conv2d_1 (Conv2D)           (None, 13, 13, 64)        18496     \n",
            "                                                                 \n",
            " max_pooling2d_1 (MaxPooling  (None, 6, 6, 64)         0         \n",
            " 2D)                                                             \n",
            "                                                                 \n",
            " conv2d_2 (Conv2D)           (None, 4, 4, 64)          36928     \n",
            "                                                                 \n",
            " flatten (Flatten)           (None, 1024)              0         \n",
            "                                                                 \n",
            " dense (Dense)               (None, 64)                65600     \n",
            "                                                                 \n",
            " dense_1 (Dense)             (None, 10)                650       \n",
            "                                                                 \n",
            "=================================================================\n",
            "Total params: 122,570\n",
            "Trainable params: 122,570\n",
            "Non-trainable params: 0\n",
            "_________________________________________________________________\n"
          ]
        }
      ],
      "source": [
        "model.summary()"
      ]
    },
    {
      "cell_type": "markdown",
      "metadata": {
        "id": "ign1S9NXz_L_"
      },
      "source": [
        "As you can see, our `(3, 3, 64)` outputs were flattened into vectors of shape `(576,)`, before going through two `Dense` layers.\n",
        "\n",
        "Now, let's train our convnet on the MNIST digits. We will reuse a lot of the code we have already covered in the MNIST example from Chapter \n",
        "2."
      ]
    },
    {
      "cell_type": "code",
      "source": [
        "from keras.datasets import cifar10\n",
        "from keras.utils import to_categorical\n",
        "\n",
        "(train_images, train_labels), (test_images, test_labels) = cifar10.load_data()"
      ],
      "metadata": {
        "id": "y8gcHJGNkC_1",
        "colab": {
          "base_uri": "https://localhost:8080/"
        },
        "outputId": "afb2f1b6-6c58-42c3-a32e-666d78ad38c2"
      },
      "execution_count": null,
      "outputs": [
        {
          "output_type": "stream",
          "name": "stdout",
          "text": [
            "Downloading data from https://www.cs.toronto.edu/~kriz/cifar-10-python.tar.gz\n",
            "170498071/170498071 [==============================] - 6s 0us/step\n"
          ]
        }
      ]
    },
    {
      "cell_type": "code",
      "execution_count": null,
      "metadata": {
        "id": "fjLulvYAz_MA"
      },
      "outputs": [],
      "source": [
        "train_images = train_images.reshape((50000, 32, 32, 3))\n",
        "\n",
        "test_images = test_images.reshape((10000, 32, 32, 3))\n",
        "\n",
        "train_labels = to_categorical(train_labels)\n",
        "test_labels = to_categorical(test_labels)"
      ]
    },
    {
      "cell_type": "code",
      "execution_count": null,
      "metadata": {
        "colab": {
          "base_uri": "https://localhost:8080/"
        },
        "id": "XgNWBJ7pz_MD",
        "outputId": "dec50456-9b74-4822-ad03-b977ecb0a08e"
      },
      "outputs": [
        {
          "output_type": "stream",
          "name": "stdout",
          "text": [
            "Epoch 1/30\n",
            "782/782 [==============================] - 6s 6ms/step - loss: 2.0836 - accuracy: 0.3359 - val_loss: 1.4719 - val_accuracy: 0.4551\n",
            "Epoch 2/30\n",
            "782/782 [==============================] - 4s 5ms/step - loss: 1.3954 - accuracy: 0.5000 - val_loss: 1.2731 - val_accuracy: 0.5422\n",
            "Epoch 3/30\n",
            "782/782 [==============================] - 4s 6ms/step - loss: 1.2207 - accuracy: 0.5651 - val_loss: 1.1610 - val_accuracy: 0.5915\n",
            "Epoch 4/30\n",
            "782/782 [==============================] - 4s 5ms/step - loss: 1.1101 - accuracy: 0.6085 - val_loss: 1.1700 - val_accuracy: 0.5956\n",
            "Epoch 5/30\n",
            "782/782 [==============================] - 4s 5ms/step - loss: 1.0180 - accuracy: 0.6431 - val_loss: 1.1073 - val_accuracy: 0.6170\n",
            "Epoch 6/30\n",
            "782/782 [==============================] - 5s 6ms/step - loss: 0.9455 - accuracy: 0.6716 - val_loss: 1.0536 - val_accuracy: 0.6363\n",
            "Epoch 7/30\n",
            "782/782 [==============================] - 4s 5ms/step - loss: 0.8856 - accuracy: 0.6921 - val_loss: 1.0846 - val_accuracy: 0.6324\n",
            "Epoch 8/30\n",
            "782/782 [==============================] - 5s 6ms/step - loss: 0.8219 - accuracy: 0.7139 - val_loss: 1.0342 - val_accuracy: 0.6527\n",
            "Epoch 9/30\n",
            "782/782 [==============================] - 4s 6ms/step - loss: 0.7795 - accuracy: 0.7296 - val_loss: 1.0230 - val_accuracy: 0.6567\n",
            "Epoch 10/30\n",
            "782/782 [==============================] - 4s 5ms/step - loss: 0.7335 - accuracy: 0.7423 - val_loss: 1.0779 - val_accuracy: 0.6517\n",
            "Epoch 11/30\n",
            "782/782 [==============================] - 5s 6ms/step - loss: 0.6819 - accuracy: 0.7617 - val_loss: 1.0347 - val_accuracy: 0.6709\n",
            "Epoch 12/30\n",
            "782/782 [==============================] - 4s 5ms/step - loss: 0.6483 - accuracy: 0.7732 - val_loss: 1.0773 - val_accuracy: 0.6639\n",
            "Epoch 13/30\n",
            "782/782 [==============================] - 5s 6ms/step - loss: 0.6051 - accuracy: 0.7866 - val_loss: 1.0668 - val_accuracy: 0.6736\n",
            "Epoch 14/30\n",
            "782/782 [==============================] - 4s 5ms/step - loss: 0.5668 - accuracy: 0.8024 - val_loss: 1.1755 - val_accuracy: 0.6480\n",
            "Epoch 15/30\n",
            "782/782 [==============================] - 4s 5ms/step - loss: 0.5347 - accuracy: 0.8131 - val_loss: 1.1552 - val_accuracy: 0.6623\n",
            "Epoch 16/30\n",
            "782/782 [==============================] - 5s 7ms/step - loss: 0.5129 - accuracy: 0.8218 - val_loss: 1.2510 - val_accuracy: 0.6478\n",
            "Epoch 17/30\n",
            "782/782 [==============================] - 4s 5ms/step - loss: 0.4882 - accuracy: 0.8303 - val_loss: 1.2395 - val_accuracy: 0.6603\n",
            "Epoch 18/30\n",
            "782/782 [==============================] - 4s 5ms/step - loss: 0.4582 - accuracy: 0.8401 - val_loss: 1.2495 - val_accuracy: 0.6626\n",
            "Epoch 19/30\n",
            "782/782 [==============================] - 4s 5ms/step - loss: 0.4389 - accuracy: 0.8465 - val_loss: 1.4254 - val_accuracy: 0.6510\n",
            "Epoch 20/30\n",
            "782/782 [==============================] - 4s 5ms/step - loss: 0.4106 - accuracy: 0.8566 - val_loss: 1.3847 - val_accuracy: 0.6454\n",
            "Epoch 21/30\n",
            "782/782 [==============================] - 5s 6ms/step - loss: 0.4047 - accuracy: 0.8582 - val_loss: 1.3995 - val_accuracy: 0.6587\n",
            "Epoch 22/30\n",
            "782/782 [==============================] - 4s 6ms/step - loss: 0.3754 - accuracy: 0.8691 - val_loss: 1.5708 - val_accuracy: 0.6407\n",
            "Epoch 23/30\n",
            "782/782 [==============================] - 4s 5ms/step - loss: 0.3584 - accuracy: 0.8737 - val_loss: 1.4573 - val_accuracy: 0.6662\n",
            "Epoch 24/30\n",
            "782/782 [==============================] - 5s 6ms/step - loss: 0.3459 - accuracy: 0.8785 - val_loss: 1.4809 - val_accuracy: 0.6633\n",
            "Epoch 25/30\n",
            "782/782 [==============================] - 4s 5ms/step - loss: 0.3364 - accuracy: 0.8824 - val_loss: 1.5583 - val_accuracy: 0.6554\n",
            "Epoch 26/30\n",
            "782/782 [==============================] - 4s 6ms/step - loss: 0.3337 - accuracy: 0.8847 - val_loss: 1.6126 - val_accuracy: 0.6444\n",
            "Epoch 27/30\n",
            "782/782 [==============================] - 5s 6ms/step - loss: 0.3152 - accuracy: 0.8901 - val_loss: 1.6324 - val_accuracy: 0.6531\n",
            "Epoch 28/30\n",
            "782/782 [==============================] - 4s 6ms/step - loss: 0.3079 - accuracy: 0.8915 - val_loss: 1.6490 - val_accuracy: 0.6563\n",
            "Epoch 29/30\n",
            "782/782 [==============================] - 5s 6ms/step - loss: 0.3006 - accuracy: 0.8966 - val_loss: 1.7259 - val_accuracy: 0.6420\n",
            "Epoch 30/30\n",
            "782/782 [==============================] - 4s 5ms/step - loss: 0.2837 - accuracy: 0.9015 - val_loss: 1.7247 - val_accuracy: 0.6475\n"
          ]
        }
      ],
      "source": [
        "model.compile(optimizer='adam',\n",
        "              loss='categorical_crossentropy',\n",
        "              metrics=['accuracy'])\n",
        "history = model.fit(train_images, train_labels, epochs = 30, batch_size = 64, validation_data= (test_images, test_labels))"
      ]
    },
    {
      "cell_type": "markdown",
      "metadata": {
        "id": "wob5b0yKz_MM"
      },
      "source": [
        "Let's evaluate the model on the test data:"
      ]
    },
    {
      "cell_type": "code",
      "execution_count": null,
      "metadata": {
        "colab": {
          "base_uri": "https://localhost:8080/"
        },
        "id": "SFukNK7Jz_MN",
        "outputId": "246e69ef-5e70-4d1b-ebfa-1abdcca631bf"
      },
      "outputs": [
        {
          "output_type": "stream",
          "name": "stdout",
          "text": [
            "313/313 [==============================] - 1s 4ms/step - loss: 1.7247 - accuracy: 0.6475\n"
          ]
        }
      ],
      "source": [
        "test_loss, test_acc = model.evaluate(test_images, test_labels)"
      ]
    },
    {
      "cell_type": "code",
      "execution_count": null,
      "metadata": {
        "colab": {
          "base_uri": "https://localhost:8080/"
        },
        "id": "jD1KTD-Gz_MR",
        "outputId": "52b6696f-0b78-43fc-c73b-6dd83bd48236"
      },
      "outputs": [
        {
          "output_type": "execute_result",
          "data": {
            "text/plain": [
              "0.6474999785423279"
            ]
          },
          "metadata": {},
          "execution_count": 15
        }
      ],
      "source": [
        "test_acc"
      ]
    },
    {
      "cell_type": "code",
      "source": [
        "import matplotlib.pyplot as plt\n",
        "import numpy as np"
      ],
      "metadata": {
        "id": "YsaXno1rhW8Y"
      },
      "execution_count": null,
      "outputs": []
    },
    {
      "cell_type": "code",
      "source": [
        "acc = history.history['accuracy']\n",
        "val_acc = history.history['val_accuracy']\n",
        "loss = history.history['loss']\n",
        "val_loss = history.history['val_loss']\n",
        "\n",
        "epochs = range(len(acc))\n",
        "\n",
        "plt.plot(epochs, acc, 'bo', label='Training accuracy')\n",
        "plt.plot(epochs, val_acc, 'b', label='Validation accuracy')\n",
        "plt.title('Training and validation accuracy')\n",
        "plt.legend()\n",
        "\n",
        "plt.figure()\n",
        "\n",
        "plt.plot(epochs, loss, 'bo', label='Training loss')\n",
        "plt.plot(epochs, val_loss, 'b', label='Validation loss')\n",
        "plt.title('Training and validation loss')\n",
        "plt.legend()\n",
        "\n",
        "plt.show()"
      ],
      "metadata": {
        "colab": {
          "base_uri": "https://localhost:8080/",
          "height": 545
        },
        "id": "DVUMB0VkgLgu",
        "outputId": "bf4e2c97-bcd5-4b9b-a9fa-7f6f0c826845"
      },
      "execution_count": null,
      "outputs": [
        {
          "output_type": "display_data",
          "data": {
            "text/plain": [
              "<Figure size 432x288 with 1 Axes>"
            ],
            "image/png": "[encoded data removed]"
          },
          "metadata": {
            "needs_background": "light"
          }
        },
        {
          "output_type": "display_data",
          "data": {
            "text/plain": [
              "<Figure size 432x288 with 1 Axes>"
            ],
            "image/png": "[encoded data removed]"
          },
          "metadata": {
            "needs_background": "light"
          }
        }
      ]
    },
    {
      "cell_type": "markdown",
      "source": [
        "Using data generator"
      ],
      "metadata": {
        "id": "oZOwDWJ6mxUC"
      }
    },
    {
      "cell_type": "code",
      "source": [
        "(train_images, train_labels), (test_images, test_labels) = cifar10.load_data()"
      ],
      "metadata": {
        "id": "SyURcP8dyUaQ"
      },
      "execution_count": null,
      "outputs": []
    },
    {
      "cell_type": "code",
      "source": [
        "from keras.preprocessing.image import ImageDataGenerator\n",
        "\n",
        "train_datagen = ImageDataGenerator(\n",
        "    rescale=1/255,\n",
        "    rotation_range = 10,\n",
        "    width_shift_range = 0.1,\n",
        "    height_shift_range = 0.1,\n",
        "    shear_range = 0.1,\n",
        "    zoom_range = 0.1,\n",
        "    horizontal_flip = True,)\n",
        "\n",
        "# Note that the validation data should not be augmented!\n",
        "test_datagen = ImageDataGenerator(rescale = 1 / 255)"
      ],
      "metadata": {
        "id": "KRjPtLxau3_n"
      },
      "execution_count": null,
      "outputs": []
    },
    {
      "cell_type": "code",
      "source": [
        "for X_batch, y_batch in train_datagen.flow(train_images, train_labels, batch_size=  32):\n",
        "    for i in range(0, 12):\n",
        "        plt.subplot(4, 3, i + 1)\n",
        "        plt.imshow(X_batch[i])\n",
        "    plt.show()\n",
        "    break"
      ],
      "metadata": {
        "colab": {
          "base_uri": "https://localhost:8080/",
          "height": 269
        },
        "id": "H3WxLjCewrd3",
        "outputId": "8d4d430c-b9a2-4866-96d9-751b1c134c44"
      },
      "execution_count": null,
      "outputs": [
        {
          "output_type": "display_data",
          "data": {
            "text/plain": [
              "<Figure size 432x288 with 12 Axes>"
            ],
            "image/png": "[encoded data removed]"
          },
          "metadata": {
            "needs_background": "light"
          }
        }
      ]
    },
    {
      "cell_type": "code",
      "source": [
        "train_images = train_images.reshape(train_images.shape[0], 32, 32, 3)\n",
        "test_images = test_images.reshape(test_images.shape[0], 32, 32, 3)\n",
        "train_labels = to_categorical(train_labels)\n",
        "test_labels = to_categorical(test_labels)"
      ],
      "metadata": {
        "id": "o_bY_Yr40zV2"
      },
      "execution_count": null,
      "outputs": []
    },
    {
      "cell_type": "code",
      "source": [
        "print(train_images.shape)\n",
        "print(test_images.shape)"
      ],
      "metadata": {
        "colab": {
          "base_uri": "https://localhost:8080/"
        },
        "id": "zhedJy-D1DU5",
        "outputId": "75ef0077-55af-407d-c4a9-e1bd05b93462"
      },
      "execution_count": null,
      "outputs": [
        {
          "output_type": "stream",
          "name": "stdout",
          "text": [
            "(50000, 32, 32, 3)\n",
            "(10000, 32, 32, 3)\n"
          ]
        }
      ]
    },
    {
      "cell_type": "code",
      "source": [
        "model = models.Sequential()\n",
        "model.add(layers.Conv2D(32, (3, 3), activation='relu', input_shape=(32, 32, 3)))\n",
        "model.add(layers.MaxPooling2D((2, 2)))\n",
        "model.add(layers.Conv2D(64, (3, 3), activation='relu'))\n",
        "model.add(layers.MaxPooling2D((2, 2)))\n",
        "model.add(layers.Conv2D(64, (3, 3), activation='relu'))\n",
        "model.add(layers.Flatten())\n",
        "model.add(layers.Dense(256, activation='relu'))\n",
        "model.add(layers.Dense(10, activation='softmax'))"
      ],
      "metadata": {
        "id": "lIyd4pJFu844"
      },
      "execution_count": null,
      "outputs": []
    },
    {
      "cell_type": "code",
      "source": [
        "model.summary()"
      ],
      "metadata": {
        "colab": {
          "base_uri": "https://localhost:8080/"
        },
        "id": "N4QGP3TV2JEu",
        "outputId": "97e890d1-6e64-4dd3-dae5-9cf262d75314"
      },
      "execution_count": null,
      "outputs": [
        {
          "output_type": "stream",
          "name": "stdout",
          "text": [
            "Model: \"sequential_5\"\n",
            "_________________________________________________________________\n",
            " Layer (type)                Output Shape              Param #   \n",
            "=================================================================\n",
            " conv2d_15 (Conv2D)          (None, 30, 30, 32)        896       \n",
            "                                                                 \n",
            " max_pooling2d_10 (MaxPoolin  (None, 15, 15, 32)       0         \n",
            " g2D)                                                            \n",
            "                                                                 \n",
            " conv2d_16 (Conv2D)          (None, 13, 13, 64)        18496     \n",
            "                                                                 \n",
            " max_pooling2d_11 (MaxPoolin  (None, 6, 6, 64)         0         \n",
            " g2D)                                                            \n",
            "                                                                 \n",
            " conv2d_17 (Conv2D)          (None, 4, 4, 64)          36928     \n",
            "                                                                 \n",
            " flatten_5 (Flatten)         (None, 1024)              0         \n",
            "                                                                 \n",
            " dense_10 (Dense)            (None, 256)               262400    \n",
            "                                                                 \n",
            " dense_11 (Dense)            (None, 10)                2570      \n",
            "                                                                 \n",
            "=================================================================\n",
            "Total params: 321,290\n",
            "Trainable params: 321,290\n",
            "Non-trainable params: 0\n",
            "_________________________________________________________________\n"
          ]
        }
      ]
    },
    {
      "cell_type": "code",
      "source": [
        "model.compile(optimizer='adam',\n",
        "              loss='categorical_crossentropy',\n",
        "              metrics=['accuracy'])"
      ],
      "metadata": {
        "id": "ro-gPUS3vN4c"
      },
      "execution_count": null,
      "outputs": []
    },
    {
      "cell_type": "code",
      "source": [
        "train_generator = train_datagen.flow(train_images, train_labels, batch_size = 64)\n",
        "validation_generator  = test_datagen.flow(test_images, test_labels, batch_size = 64)"
      ],
      "metadata": {
        "id": "HN4f_Gzz4-hU"
      },
      "execution_count": null,
      "outputs": []
    },
    {
      "cell_type": "code",
      "source": [
        "history  = model.fit(train_generator, epochs = 50, batch_size= 64, steps_per_epoch = len(train_images) // 64,\n",
        "                     validation_data = validation_generator, validation_steps = len(test_images) // 64)"
      ],
      "metadata": {
        "colab": {
          "base_uri": "https://localhost:8080/"
        },
        "id": "Sc-E5R8bmw6T",
        "outputId": "95f80a2f-8e69-433f-c49e-a5f83272dde6"
      },
      "execution_count": null,
      "outputs": [
        {
          "output_type": "stream",
          "name": "stdout",
          "text": [
            "Epoch 1/50\n",
            "781/781 [==============================] - 35s 42ms/step - loss: 1.6107 - accuracy: 0.4100 - val_loss: 1.3801 - val_accuracy: 0.5056\n",
            "Epoch 2/50\n",
            "781/781 [==============================] - 34s 43ms/step - loss: 1.2965 - accuracy: 0.5341 - val_loss: 1.2406 - val_accuracy: 0.5510\n",
            "Epoch 3/50\n",
            "781/781 [==============================] - 34s 43ms/step - loss: 1.1559 - accuracy: 0.5895 - val_loss: 1.0455 - val_accuracy: 0.6368\n",
            "Epoch 4/50\n",
            "781/781 [==============================] - 32s 41ms/step - loss: 1.0635 - accuracy: 0.6241 - val_loss: 0.9684 - val_accuracy: 0.6636\n",
            "Epoch 5/50\n",
            "781/781 [==============================] - 34s 44ms/step - loss: 1.0048 - accuracy: 0.6460 - val_loss: 0.9443 - val_accuracy: 0.6706\n",
            "Epoch 6/50\n",
            "781/781 [==============================] - 33s 42ms/step - loss: 0.9628 - accuracy: 0.6605 - val_loss: 0.9722 - val_accuracy: 0.6637\n",
            "Epoch 7/50\n",
            "781/781 [==============================] - 34s 43ms/step - loss: 0.9256 - accuracy: 0.6732 - val_loss: 0.8528 - val_accuracy: 0.7040\n",
            "Epoch 8/50\n",
            "781/781 [==============================] - 34s 43ms/step - loss: 0.8907 - accuracy: 0.6874 - val_loss: 0.8277 - val_accuracy: 0.7157\n",
            "Epoch 9/50\n",
            "781/781 [==============================] - 33s 42ms/step - loss: 0.8701 - accuracy: 0.6943 - val_loss: 0.8430 - val_accuracy: 0.7071\n",
            "Epoch 10/50\n",
            "781/781 [==============================] - 32s 41ms/step - loss: 0.8479 - accuracy: 0.7018 - val_loss: 0.8320 - val_accuracy: 0.7098\n",
            "Epoch 11/50\n",
            "781/781 [==============================] - 33s 43ms/step - loss: 0.8168 - accuracy: 0.7122 - val_loss: 0.7782 - val_accuracy: 0.7325\n",
            "Epoch 12/50\n",
            "781/781 [==============================] - 34s 43ms/step - loss: 0.8078 - accuracy: 0.7178 - val_loss: 0.7832 - val_accuracy: 0.7282\n",
            "Epoch 13/50\n",
            "781/781 [==============================] - 35s 44ms/step - loss: 0.7956 - accuracy: 0.7205 - val_loss: 0.7788 - val_accuracy: 0.7332\n",
            "Epoch 14/50\n",
            "781/781 [==============================] - 34s 43ms/step - loss: 0.7724 - accuracy: 0.7290 - val_loss: 0.8218 - val_accuracy: 0.7191\n",
            "Epoch 15/50\n",
            "781/781 [==============================] - 34s 43ms/step - loss: 0.7553 - accuracy: 0.7337 - val_loss: 0.7342 - val_accuracy: 0.7492\n",
            "Epoch 16/50\n",
            "781/781 [==============================] - 32s 41ms/step - loss: 0.7425 - accuracy: 0.7386 - val_loss: 0.7864 - val_accuracy: 0.7320\n",
            "Epoch 17/50\n",
            "781/781 [==============================] - 33s 42ms/step - loss: 0.7410 - accuracy: 0.7426 - val_loss: 0.7383 - val_accuracy: 0.7474\n",
            "Epoch 18/50\n",
            "781/781 [==============================] - 34s 43ms/step - loss: 0.7248 - accuracy: 0.7469 - val_loss: 0.7599 - val_accuracy: 0.7382\n",
            "Epoch 19/50\n",
            "781/781 [==============================] - 32s 41ms/step - loss: 0.7112 - accuracy: 0.7508 - val_loss: 0.7133 - val_accuracy: 0.7601\n",
            "Epoch 20/50\n",
            "781/781 [==============================] - 33s 43ms/step - loss: 0.7028 - accuracy: 0.7527 - val_loss: 0.6957 - val_accuracy: 0.7668\n",
            "Epoch 21/50\n",
            "781/781 [==============================] - 34s 43ms/step - loss: 0.6958 - accuracy: 0.7560 - val_loss: 0.7065 - val_accuracy: 0.7610\n",
            "Epoch 22/50\n",
            "781/781 [==============================] - 33s 43ms/step - loss: 0.6872 - accuracy: 0.7591 - val_loss: 0.7206 - val_accuracy: 0.7573\n",
            "Epoch 23/50\n",
            "781/781 [==============================] - 34s 44ms/step - loss: 0.6805 - accuracy: 0.7613 - val_loss: 0.7133 - val_accuracy: 0.7604\n",
            "Epoch 24/50\n",
            "781/781 [==============================] - 33s 42ms/step - loss: 0.6737 - accuracy: 0.7631 - val_loss: 0.7088 - val_accuracy: 0.7655\n",
            "Epoch 25/50\n",
            "781/781 [==============================] - 32s 41ms/step - loss: 0.6637 - accuracy: 0.7685 - val_loss: 0.7504 - val_accuracy: 0.7519\n",
            "Epoch 26/50\n",
            "781/781 [==============================] - 31s 40ms/step - loss: 0.6572 - accuracy: 0.7700 - val_loss: 0.7168 - val_accuracy: 0.7623\n",
            "Epoch 27/50\n",
            "781/781 [==============================] - 32s 41ms/step - loss: 0.6421 - accuracy: 0.7755 - val_loss: 0.6804 - val_accuracy: 0.7722\n",
            "Epoch 28/50\n",
            "781/781 [==============================] - 32s 41ms/step - loss: 0.6464 - accuracy: 0.7730 - val_loss: 0.6704 - val_accuracy: 0.7756\n",
            "Epoch 29/50\n",
            "781/781 [==============================] - 33s 42ms/step - loss: 0.6411 - accuracy: 0.7742 - val_loss: 0.7017 - val_accuracy: 0.7685\n",
            "Epoch 30/50\n",
            "781/781 [==============================] - 33s 42ms/step - loss: 0.6320 - accuracy: 0.7790 - val_loss: 0.7069 - val_accuracy: 0.7708\n",
            "Epoch 31/50\n",
            "781/781 [==============================] - 34s 43ms/step - loss: 0.6257 - accuracy: 0.7816 - val_loss: 0.7387 - val_accuracy: 0.7604\n",
            "Epoch 32/50\n",
            "781/781 [==============================] - 33s 42ms/step - loss: 0.6207 - accuracy: 0.7831 - val_loss: 0.7448 - val_accuracy: 0.7558\n",
            "Epoch 33/50\n",
            "781/781 [==============================] - 33s 43ms/step - loss: 0.6235 - accuracy: 0.7807 - val_loss: 0.7034 - val_accuracy: 0.7687\n",
            "Epoch 34/50\n",
            "781/781 [==============================] - 33s 43ms/step - loss: 0.6162 - accuracy: 0.7845 - val_loss: 0.7286 - val_accuracy: 0.7633\n",
            "Epoch 35/50\n",
            "781/781 [==============================] - 32s 41ms/step - loss: 0.6093 - accuracy: 0.7870 - val_loss: 0.6261 - val_accuracy: 0.7874\n",
            "Epoch 36/50\n",
            "781/781 [==============================] - 33s 42ms/step - loss: 0.6058 - accuracy: 0.7880 - val_loss: 0.7031 - val_accuracy: 0.7691\n",
            "Epoch 37/50\n",
            "781/781 [==============================] - 32s 41ms/step - loss: 0.6022 - accuracy: 0.7889 - val_loss: 0.6905 - val_accuracy: 0.7714\n",
            "Epoch 38/50\n",
            "781/781 [==============================] - 32s 41ms/step - loss: 0.5915 - accuracy: 0.7914 - val_loss: 0.6575 - val_accuracy: 0.7792\n",
            "Epoch 39/50\n",
            "781/781 [==============================] - 33s 42ms/step - loss: 0.5939 - accuracy: 0.7925 - val_loss: 0.6899 - val_accuracy: 0.7721\n",
            "Epoch 40/50\n",
            "781/781 [==============================] - 33s 42ms/step - loss: 0.5897 - accuracy: 0.7934 - val_loss: 0.6748 - val_accuracy: 0.7806\n",
            "Epoch 41/50\n",
            "781/781 [==============================] - 32s 40ms/step - loss: 0.5807 - accuracy: 0.7974 - val_loss: 0.6962 - val_accuracy: 0.7718\n",
            "Epoch 42/50\n",
            "781/781 [==============================] - 33s 42ms/step - loss: 0.5800 - accuracy: 0.7982 - val_loss: 0.6352 - val_accuracy: 0.7864\n",
            "Epoch 43/50\n",
            "781/781 [==============================] - 33s 42ms/step - loss: 0.5794 - accuracy: 0.7968 - val_loss: 0.6424 - val_accuracy: 0.7870\n",
            "Epoch 44/50\n",
            "781/781 [==============================] - 33s 42ms/step - loss: 0.5753 - accuracy: 0.7982 - val_loss: 0.7186 - val_accuracy: 0.7694\n",
            "Epoch 45/50\n",
            "781/781 [==============================] - 32s 41ms/step - loss: 0.5736 - accuracy: 0.7977 - val_loss: 0.6203 - val_accuracy: 0.7915\n",
            "Epoch 46/50\n",
            "781/781 [==============================] - 33s 42ms/step - loss: 0.5675 - accuracy: 0.8027 - val_loss: 0.7064 - val_accuracy: 0.7700\n",
            "Epoch 47/50\n",
            "781/781 [==============================] - 32s 41ms/step - loss: 0.5661 - accuracy: 0.8036 - val_loss: 0.6719 - val_accuracy: 0.7807\n",
            "Epoch 48/50\n",
            "781/781 [==============================] - 33s 42ms/step - loss: 0.5655 - accuracy: 0.8026 - val_loss: 0.6598 - val_accuracy: 0.7841\n",
            "Epoch 49/50\n",
            "781/781 [==============================] - 31s 40ms/step - loss: 0.5570 - accuracy: 0.8044 - val_loss: 0.6513 - val_accuracy: 0.7872\n",
            "Epoch 50/50\n",
            "781/781 [==============================] - 32s 41ms/step - loss: 0.5591 - accuracy: 0.8038 - val_loss: 0.6507 - val_accuracy: 0.7845\n"
          ]
        }
      ]
    },
    {
      "cell_type": "code",
      "source": [
        "acc = history.history['accuracy']\n",
        "val_acc = history.history['val_accuracy']\n",
        "loss = history.history['loss']\n",
        "val_loss = history.history['val_loss']\n",
        "\n",
        "epochs = range(len(acc))\n",
        "\n",
        "plt.plot(epochs, acc, 'bo', label='Training accuracy')\n",
        "plt.plot(epochs, val_acc, 'b', label='Validation accuracy')\n",
        "plt.title('Training and validation accuracy')\n",
        "plt.legend()\n",
        "\n",
        "plt.figure()\n",
        "\n",
        "plt.plot(epochs, loss, 'bo', label='Training loss')\n",
        "plt.plot(epochs, val_loss, 'b', label='Validation loss')\n",
        "plt.title('Training and validation loss')\n",
        "plt.legend()\n",
        "\n",
        "plt.show()"
      ],
      "metadata": {
        "colab": {
          "base_uri": "https://localhost:8080/",
          "height": 545
        },
        "id": "omM4xtAlvMwR",
        "outputId": "80e01f0a-c1d6-44a5-8df0-7a6bc9a64967"
      },
      "execution_count": null,
      "outputs": [
        {
          "output_type": "display_data",
          "data": {
            "text/plain": [
              "<Figure size 432x288 with 1 Axes>"
            ],
            "image/png": "[encoded data removed]"
          },
          "metadata": {
            "needs_background": "light"
          }
        },
        {
          "output_type": "display_data",
          "data": {
            "text/plain": [
              "<Figure size 432x288 with 1 Axes>"
            ],
            "image/png": "[encoded data removed]"
          },
          "metadata": {
            "needs_background": "light"
          }
        }
      ]
    },
    {
      "cell_type": "code",
      "source": [
        "model.save('/content/cifar10.h5')"
      ],
      "metadata": {
        "id": "jS6WGx_46tDA"
      },
      "execution_count": null,
      "outputs": []
    },
    {
      "cell_type": "code",
      "source": [
        "from keras.models import load_model\n",
        "\n",
        "model = load_model('/content/cifar10.h5')\n",
        "model.summary()  # As a reminder."
      ],
      "metadata": {
        "colab": {
          "base_uri": "https://localhost:8080/"
        },
        "id": "sxNdqbOm62dC",
        "outputId": "dbcfef53-e208-473e-e320-cb9a1607a0c6"
      },
      "execution_count": null,
      "outputs": [
        {
          "output_type": "stream",
          "name": "stdout",
          "text": [
            "Model: \"sequential_4\"\n",
            "_________________________________________________________________\n",
            " Layer (type)                Output Shape              Param #   \n",
            "=================================================================\n",
            " conv2d_12 (Conv2D)          (None, 30, 30, 32)        896       \n",
            "                                                                 \n",
            " max_pooling2d_8 (MaxPooling  (None, 15, 15, 32)       0         \n",
            " 2D)                                                             \n",
            "                                                                 \n",
            " conv2d_13 (Conv2D)          (None, 13, 13, 64)        18496     \n",
            "                                                                 \n",
            " max_pooling2d_9 (MaxPooling  (None, 6, 6, 64)         0         \n",
            " 2D)                                                             \n",
            "                                                                 \n",
            " conv2d_14 (Conv2D)          (None, 4, 4, 64)          36928     \n",
            "                                                                 \n",
            " flatten_3 (Flatten)         (None, 1024)              0         \n",
            "                                                                 \n",
            " dense_6 (Dense)             (None, 256)               262400    \n",
            "                                                                 \n",
            " dense_7 (Dense)             (None, 10)                2570      \n",
            "                                                                 \n",
            "=================================================================\n",
            "Total params: 321,290\n",
            "Trainable params: 321,290\n",
            "Non-trainable params: 0\n",
            "_________________________________________________________________\n"
          ]
        }
      ]
    },
    {
      "cell_type": "markdown",
      "source": [
        "Using Pre-trained model"
      ],
      "metadata": {
        "id": "Z7EvNJwUqhO9"
      }
    },
    {
      "cell_type": "code",
      "source": [
        "from keras.applications import VGG16\n",
        "\n",
        "vgg16 = VGG16(weights='imagenet',\n",
        "                  include_top=False,\n",
        "                  input_shape=(32,32,3))"
      ],
      "metadata": {
        "id": "T2AOS-hRVpKX"
      },
      "execution_count": null,
      "outputs": []
    },
    {
      "cell_type": "code",
      "source": [
        "vgg16.trainable = False\n",
        "vgg16.summary()"
      ],
      "metadata": {
        "colab": {
          "base_uri": "https://localhost:8080/"
        },
        "id": "f2BWlXbHr04_",
        "outputId": "336e241d-e888-4245-ddb1-878ef2db88a2"
      },
      "execution_count": null,
      "outputs": [
        {
          "output_type": "stream",
          "name": "stdout",
          "text": [
            "Model: \"vgg16\"\n",
            "_________________________________________________________________\n",
            " Layer (type)                Output Shape              Param #   \n",
            "=================================================================\n",
            " input_9 (InputLayer)        [(None, 32, 32, 3)]       0         \n",
            "                                                                 \n",
            " block1_conv1 (Conv2D)       (None, 32, 32, 64)        1792      \n",
            "                                                                 \n",
            " block1_conv2 (Conv2D)       (None, 32, 32, 64)        36928     \n",
            "                                                                 \n",
            " block1_pool (MaxPooling2D)  (None, 16, 16, 64)        0         \n",
            "                                                                 \n",
            " block2_conv1 (Conv2D)       (None, 16, 16, 128)       73856     \n",
            "                                                                 \n",
            " block2_conv2 (Conv2D)       (None, 16, 16, 128)       147584    \n",
            "                                                                 \n",
            " block2_pool (MaxPooling2D)  (None, 8, 8, 128)         0         \n",
            "                                                                 \n",
            " block3_conv1 (Conv2D)       (None, 8, 8, 256)         295168    \n",
            "                                                                 \n",
            " block3_conv2 (Conv2D)       (None, 8, 8, 256)         590080    \n",
            "                                                                 \n",
            " block3_conv3 (Conv2D)       (None, 8, 8, 256)         590080    \n",
            "                                                                 \n",
            " block3_pool (MaxPooling2D)  (None, 4, 4, 256)         0         \n",
            "                                                                 \n",
            " block4_conv1 (Conv2D)       (None, 4, 4, 512)         1180160   \n",
            "                                                                 \n",
            " block4_conv2 (Conv2D)       (None, 4, 4, 512)         2359808   \n",
            "                                                                 \n",
            " block4_conv3 (Conv2D)       (None, 4, 4, 512)         2359808   \n",
            "                                                                 \n",
            " block4_pool (MaxPooling2D)  (None, 2, 2, 512)         0         \n",
            "                                                                 \n",
            " block5_conv1 (Conv2D)       (None, 2, 2, 512)         2359808   \n",
            "                                                                 \n",
            " block5_conv2 (Conv2D)       (None, 2, 2, 512)         2359808   \n",
            "                                                                 \n",
            " block5_conv3 (Conv2D)       (None, 2, 2, 512)         2359808   \n",
            "                                                                 \n",
            " block5_pool (MaxPooling2D)  (None, 1, 1, 512)         0         \n",
            "                                                                 \n",
            "=================================================================\n",
            "Total params: 14,714,688\n",
            "Trainable params: 0\n",
            "Non-trainable params: 14,714,688\n",
            "_________________________________________________________________\n"
          ]
        }
      ]
    },
    {
      "cell_type": "code",
      "source": [
        "from keras import Model\n",
        "\n",
        "last = vgg16.output\n",
        "x = keras.layers.Flatten()(last)\n",
        "x = layers.Dropout(0.3)(x)\n",
        "output = layers.Dense(10, activation='softmax')(x)\n",
        "model = Model(vgg16.input, output)\n",
        "\n",
        "# model = models.Sequential()\n",
        "# model.add(vgg16)\n",
        "# model.add(layers.Flatten())\n",
        "# model.add(layers.Dense(512, activation='relu'))\n",
        "# model.add(layers.Dense(10, activation='softmax'))"
      ],
      "metadata": {
        "id": "yTpS5i9hr3KR"
      },
      "execution_count": null,
      "outputs": []
    },
    {
      "cell_type": "code",
      "source": [
        "model.summary()"
      ],
      "metadata": {
        "colab": {
          "base_uri": "https://localhost:8080/"
        },
        "id": "uVBJ4GxIvK_N",
        "outputId": "d3c4c76d-4fd6-4a52-91d9-0086820e3d99"
      },
      "execution_count": null,
      "outputs": [
        {
          "output_type": "stream",
          "name": "stdout",
          "text": [
            "Model: \"model_8\"\n",
            "_________________________________________________________________\n",
            " Layer (type)                Output Shape              Param #   \n",
            "=================================================================\n",
            " input_9 (InputLayer)        [(None, 32, 32, 3)]       0         \n",
            "                                                                 \n",
            " block1_conv1 (Conv2D)       (None, 32, 32, 64)        1792      \n",
            "                                                                 \n",
            " block1_conv2 (Conv2D)       (None, 32, 32, 64)        36928     \n",
            "                                                                 \n",
            " block1_pool (MaxPooling2D)  (None, 16, 16, 64)        0         \n",
            "                                                                 \n",
            " block2_conv1 (Conv2D)       (None, 16, 16, 128)       73856     \n",
            "                                                                 \n",
            " block2_conv2 (Conv2D)       (None, 16, 16, 128)       147584    \n",
            "                                                                 \n",
            " block2_pool (MaxPooling2D)  (None, 8, 8, 128)         0         \n",
            "                                                                 \n",
            " block3_conv1 (Conv2D)       (None, 8, 8, 256)         295168    \n",
            "                                                                 \n",
            " block3_conv2 (Conv2D)       (None, 8, 8, 256)         590080    \n",
            "                                                                 \n",
            " block3_conv3 (Conv2D)       (None, 8, 8, 256)         590080    \n",
            "                                                                 \n",
            " block3_pool (MaxPooling2D)  (None, 4, 4, 256)         0         \n",
            "                                                                 \n",
            " block4_conv1 (Conv2D)       (None, 4, 4, 512)         1180160   \n",
            "                                                                 \n",
            " block4_conv2 (Conv2D)       (None, 4, 4, 512)         2359808   \n",
            "                                                                 \n",
            " block4_conv3 (Conv2D)       (None, 4, 4, 512)         2359808   \n",
            "                                                                 \n",
            " block4_pool (MaxPooling2D)  (None, 2, 2, 512)         0         \n",
            "                                                                 \n",
            " block5_conv1 (Conv2D)       (None, 2, 2, 512)         2359808   \n",
            "                                                                 \n",
            " block5_conv2 (Conv2D)       (None, 2, 2, 512)         2359808   \n",
            "                                                                 \n",
            " block5_conv3 (Conv2D)       (None, 2, 2, 512)         2359808   \n",
            "                                                                 \n",
            " block5_pool (MaxPooling2D)  (None, 1, 1, 512)         0         \n",
            "                                                                 \n",
            " flatten_6 (Flatten)         (None, 512)               0         \n",
            "                                                                 \n",
            " dropout_8 (Dropout)         (None, 512)               0         \n",
            "                                                                 \n",
            " dense_12 (Dense)            (None, 10)                5130      \n",
            "                                                                 \n",
            "=================================================================\n",
            "Total params: 14,719,818\n",
            "Trainable params: 5,130\n",
            "Non-trainable params: 14,714,688\n",
            "_________________________________________________________________\n"
          ]
        }
      ]
    },
    {
      "cell_type": "code",
      "source": [
        "(train_images, train_labels), (test_images, test_labels) = cifar10.load_data()"
      ],
      "metadata": {
        "id": "yveDY50uEr5H"
      },
      "execution_count": null,
      "outputs": []
    },
    {
      "cell_type": "code",
      "source": [
        "from keras.preprocessing.image import ImageDataGenerator\n",
        "from keras.applications.vgg16 import preprocess_input\n",
        "\n",
        "train_datagen = ImageDataGenerator(\n",
        "    preprocessing_function= preprocess_input,\n",
        "    #rescale = 1./ 255,\n",
        "    rotation_range = 10,\n",
        "    width_shift_range = 0.1,\n",
        "    height_shift_range = 0.1,\n",
        "    shear_range = 0.1,\n",
        "    zoom_range = 0.1,\n",
        "    horizontal_flip = True,)\n",
        "\n",
        "# Note that the validation data should not be augmented!\n",
        "test_datagen = ImageDataGenerator(preprocessing_function= preprocess_input,\n",
        "                                  #rescale=1./ 255,\n",
        "                                  )"
      ],
      "metadata": {
        "id": "akgy2tx8xtHE"
      },
      "execution_count": null,
      "outputs": []
    },
    {
      "cell_type": "code",
      "source": [
        "train_images = train_images.reshape(train_images.shape[0], 32, 32, 3)\n",
        "test_images = test_images.reshape(test_images.shape[0], 32, 32, 3)\n",
        "train_labels = to_categorical(train_labels)\n",
        "test_labels = to_categorical(test_labels)"
      ],
      "metadata": {
        "id": "DElB0GRVEu3y"
      },
      "execution_count": null,
      "outputs": []
    },
    {
      "cell_type": "code",
      "source": [
        "train_generator = train_datagen.flow(train_images, train_labels, batch_size = 64)\n",
        "validation_generator  = test_datagen.flow(test_images, test_labels, batch_size = 64)"
      ],
      "metadata": {
        "id": "Kxo0LbyFNT9h"
      },
      "execution_count": null,
      "outputs": []
    },
    {
      "cell_type": "code",
      "source": [
        "from keras.callbacks import EarlyStopping, ReduceLROnPlateau, ModelCheckpoint\n",
        "\n",
        "checkpoint = ModelCheckpoint('best_model.h5', monitor='val_accuracy', save_best_only=True, mode='max')\n",
        "my_callbacks = [EarlyStopping(patience = 3), checkpoint]"
      ],
      "metadata": {
        "id": "Ss6G4MOZvMv9"
      },
      "execution_count": null,
      "outputs": []
    },
    {
      "cell_type": "code",
      "source": [
        "model.compile(optimizer= keras.optimizers.Adam(learning_rate = 0.001),\n",
        "              loss='categorical_crossentropy',\n",
        "              metrics=['accuracy'])"
      ],
      "metadata": {
        "id": "x7Ij07T-zSaB"
      },
      "execution_count": null,
      "outputs": []
    },
    {
      "cell_type": "code",
      "source": [
        "history  = model.fit(train_generator, epochs = 10, batch_size= 64, steps_per_epoch = len(train_images) // 64,\n",
        "                     validation_data = validation_generator, validation_steps = len(test_images) // 64, callbacks = my_callbacks)"
      ],
      "metadata": {
        "colab": {
          "base_uri": "https://localhost:8080/"
        },
        "id": "o7ogSrScvqBf",
        "outputId": "66363b4c-772a-4919-e538-eae140a4e7b4"
      },
      "execution_count": null,
      "outputs": [
        {
          "output_type": "stream",
          "name": "stdout",
          "text": [
            "Epoch 1/10\n",
            "781/781 [==============================] - 39s 49ms/step - loss: 6.4485 - accuracy: 0.4282 - val_loss: 1.9226 - val_accuracy: 0.5790\n",
            "Epoch 2/10\n",
            "781/781 [==============================] - 36s 46ms/step - loss: 1.9495 - accuracy: 0.5034 - val_loss: 1.3565 - val_accuracy: 0.5909\n",
            "Epoch 3/10\n",
            "781/781 [==============================] - 35s 45ms/step - loss: 1.6874 - accuracy: 0.5075 - val_loss: 1.3454 - val_accuracy: 0.5852\n",
            "Epoch 4/10\n",
            "781/781 [==============================] - 35s 45ms/step - loss: 1.6854 - accuracy: 0.5052 - val_loss: 1.3404 - val_accuracy: 0.5861\n",
            "Epoch 5/10\n",
            "781/781 [==============================] - 37s 48ms/step - loss: 1.6908 - accuracy: 0.5041 - val_loss: 1.4392 - val_accuracy: 0.5718\n",
            "Epoch 6/10\n",
            "781/781 [==============================] - 36s 46ms/step - loss: 1.7059 - accuracy: 0.5046 - val_loss: 1.3555 - val_accuracy: 0.5850\n",
            "Epoch 7/10\n",
            "781/781 [==============================] - 35s 45ms/step - loss: 1.6960 - accuracy: 0.5054 - val_loss: 1.3890 - val_accuracy: 0.5864\n"
          ]
        }
      ]
    },
    {
      "cell_type": "code",
      "source": [
        "from keras.models import load_model\n",
        "model = load_model('best_model.h5')"
      ],
      "metadata": {
        "id": "35E8GFyh2QWr"
      },
      "execution_count": null,
      "outputs": []
    },
    {
      "cell_type": "code",
      "source": [
        "model.trainable = True"
      ],
      "metadata": {
        "id": "tnu25rD7v53R"
      },
      "execution_count": null,
      "outputs": []
    },
    {
      "cell_type": "code",
      "source": [
        "model.summary()"
      ],
      "metadata": {
        "colab": {
          "base_uri": "https://localhost:8080/"
        },
        "id": "HwyIQIOZOz_1",
        "outputId": "81d709fa-53a8-4b51-ddfa-4609c2fd893f"
      },
      "execution_count": null,
      "outputs": [
        {
          "output_type": "stream",
          "name": "stdout",
          "text": [
            "Model: \"model_8\"\n",
            "_________________________________________________________________\n",
            " Layer (type)                Output Shape              Param #   \n",
            "=================================================================\n",
            " input_9 (InputLayer)        [(None, 32, 32, 3)]       0         \n",
            "                                                                 \n",
            " block1_conv1 (Conv2D)       (None, 32, 32, 64)        1792      \n",
            "                                                                 \n",
            " block1_conv2 (Conv2D)       (None, 32, 32, 64)        36928     \n",
            "                                                                 \n",
            " block1_pool (MaxPooling2D)  (None, 16, 16, 64)        0         \n",
            "                                                                 \n",
            " block2_conv1 (Conv2D)       (None, 16, 16, 128)       73856     \n",
            "                                                                 \n",
            " block2_conv2 (Conv2D)       (None, 16, 16, 128)       147584    \n",
            "                                                                 \n",
            " block2_pool (MaxPooling2D)  (None, 8, 8, 128)         0         \n",
            "                                                                 \n",
            " block3_conv1 (Conv2D)       (None, 8, 8, 256)         295168    \n",
            "                                                                 \n",
            " block3_conv2 (Conv2D)       (None, 8, 8, 256)         590080    \n",
            "                                                                 \n",
            " block3_conv3 (Conv2D)       (None, 8, 8, 256)         590080    \n",
            "                                                                 \n",
            " block3_pool (MaxPooling2D)  (None, 4, 4, 256)         0         \n",
            "                                                                 \n",
            " block4_conv1 (Conv2D)       (None, 4, 4, 512)         1180160   \n",
            "                                                                 \n",
            " block4_conv2 (Conv2D)       (None, 4, 4, 512)         2359808   \n",
            "                                                                 \n",
            " block4_conv3 (Conv2D)       (None, 4, 4, 512)         2359808   \n",
            "                                                                 \n",
            " block4_pool (MaxPooling2D)  (None, 2, 2, 512)         0         \n",
            "                                                                 \n",
            " block5_conv1 (Conv2D)       (None, 2, 2, 512)         2359808   \n",
            "                                                                 \n",
            " block5_conv2 (Conv2D)       (None, 2, 2, 512)         2359808   \n",
            "                                                                 \n",
            " block5_conv3 (Conv2D)       (None, 2, 2, 512)         2359808   \n",
            "                                                                 \n",
            " block5_pool (MaxPooling2D)  (None, 1, 1, 512)         0         \n",
            "                                                                 \n",
            " flatten_6 (Flatten)         (None, 512)               0         \n",
            "                                                                 \n",
            " dropout_8 (Dropout)         (None, 512)               0         \n",
            "                                                                 \n",
            " dense_12 (Dense)            (None, 10)                5130      \n",
            "                                                                 \n",
            "=================================================================\n",
            "Total params: 14,719,818\n",
            "Trainable params: 14,719,818\n",
            "Non-trainable params: 0\n",
            "_________________________________________________________________\n"
          ]
        }
      ]
    },
    {
      "cell_type": "code",
      "source": [
        "model.compile(optimizer=keras.optimizers.Adam(learning_rate= 0.0001),\n",
        "              loss='categorical_crossentropy',\n",
        "              metrics=['accuracy'])"
      ],
      "metadata": {
        "id": "d_WKd0wsbUXI"
      },
      "execution_count": null,
      "outputs": []
    },
    {
      "cell_type": "code",
      "source": [
        "def lr_scheduler(epoch):\n",
        "    initial_lr = 0.0001\n",
        "    drop = 0.9\n",
        "    epochs_drop = 1\n",
        "    lr = initial_lr * drop**((1+epoch)//epochs_drop)\n",
        "    return lr\n",
        "\n",
        "reduce_lr = keras.callbacks.LearningRateScheduler(lr_scheduler)"
      ],
      "metadata": {
        "id": "STEUKGnH-rVz"
      },
      "execution_count": null,
      "outputs": []
    },
    {
      "cell_type": "code",
      "source": [
        "my_callbacks = [EarlyStopping(patience = 2), checkpoint, reduce_lr]"
      ],
      "metadata": {
        "id": "oaFNPS7j-Qs7"
      },
      "execution_count": null,
      "outputs": []
    },
    {
      "cell_type": "code",
      "source": [
        "history  = model.fit(train_generator, epochs = 20, batch_size= 64, steps_per_epoch = len(train_images) // 64,\n",
        "                     validation_data = validation_generator, validation_steps = len(test_images) // 64, callbacks = my_callbacks)"
      ],
      "metadata": {
        "colab": {
          "base_uri": "https://localhost:8080/"
        },
        "id": "fiKmxEopPEWu",
        "outputId": "0174ede0-6b80-48b6-9e37-02432ee22223"
      },
      "execution_count": null,
      "outputs": [
        {
          "output_type": "stream",
          "name": "stdout",
          "text": [
            "Epoch 1/20\n",
            "781/781 [==============================] - 48s 55ms/step - loss: 0.8959 - accuracy: 0.6932 - val_loss: 0.5975 - val_accuracy: 0.8016 - lr: 9.0000e-05\n",
            "Epoch 2/20\n",
            "781/781 [==============================] - 44s 57ms/step - loss: 0.5875 - accuracy: 0.8014 - val_loss: 0.5966 - val_accuracy: 0.8047 - lr: 8.1000e-05\n",
            "Epoch 3/20\n",
            "781/781 [==============================] - 44s 57ms/step - loss: 0.4812 - accuracy: 0.8345 - val_loss: 0.4581 - val_accuracy: 0.8538 - lr: 7.2900e-05\n",
            "Epoch 4/20\n",
            "781/781 [==============================] - 43s 55ms/step - loss: 0.4044 - accuracy: 0.8611 - val_loss: 0.4147 - val_accuracy: 0.8640 - lr: 6.5610e-05\n",
            "Epoch 5/20\n",
            "781/781 [==============================] - 44s 56ms/step - loss: 0.3468 - accuracy: 0.8801 - val_loss: 0.4360 - val_accuracy: 0.8623 - lr: 5.9049e-05\n",
            "Epoch 6/20\n",
            "781/781 [==============================] - 44s 57ms/step - loss: 0.3002 - accuracy: 0.8991 - val_loss: 0.4135 - val_accuracy: 0.8640 - lr: 5.3144e-05\n",
            "Epoch 7/20\n",
            "781/781 [==============================] - 46s 58ms/step - loss: 0.2603 - accuracy: 0.9091 - val_loss: 0.3836 - val_accuracy: 0.8772 - lr: 4.7830e-05\n",
            "Epoch 8/20\n",
            "781/781 [==============================] - 46s 59ms/step - loss: 0.2233 - accuracy: 0.9218 - val_loss: 0.3948 - val_accuracy: 0.8799 - lr: 4.3047e-05\n",
            "Epoch 9/20\n",
            "781/781 [==============================] - 44s 56ms/step - loss: 0.1927 - accuracy: 0.9330 - val_loss: 0.4247 - val_accuracy: 0.8790 - lr: 3.8742e-05\n"
          ]
        }
      ]
    },
    {
      "cell_type": "code",
      "source": [
        "from keras.models import load_model\n",
        "model = load_model('best_model.h5')"
      ],
      "metadata": {
        "id": "d9M0D1X83Ax4"
      },
      "execution_count": null,
      "outputs": []
    },
    {
      "cell_type": "code",
      "source": [
        "import matplotlib.pyplot as plt\n",
        "\n",
        "acc = history.history['accuracy']\n",
        "val_acc = history.history['val_accuracy']\n",
        "loss = history.history['loss']\n",
        "val_loss = history.history['val_loss']\n",
        "\n",
        "epochs = range(len(acc))\n",
        "\n",
        "plt.plot(epochs, acc, 'bo', label='Training accuracy')\n",
        "plt.plot(epochs, val_acc, 'b', label='Validation accuracy')\n",
        "plt.title('Training and validation accuracy')\n",
        "plt.legend()\n",
        "\n",
        "plt.figure()\n",
        "\n",
        "plt.plot(epochs, loss, 'bo', label='Training loss')\n",
        "plt.plot(epochs, val_loss, 'b', label='Validation loss')\n",
        "plt.title('Training and validation loss')\n",
        "plt.legend()\n",
        "\n",
        "plt.show()"
      ],
      "metadata": {
        "colab": {
          "base_uri": "https://localhost:8080/",
          "height": 887
        },
        "id": "3qRYIOrcFgSh",
        "outputId": "fbe6cb39-dd39-488b-ebd8-64b17bf13148"
      },
      "execution_count": null,
      "outputs": [
        {
          "output_type": "display_data",
          "data": {
            "text/plain": [
              "<Figure size 640x480 with 1 Axes>"
            ],
            "image/png": "[encoded data removed]"
          },
          "metadata": {}
        },
        {
          "output_type": "display_data",
          "data": {
            "text/plain": [
              "<Figure size 640x480 with 1 Axes>"
            ],
            "image/png": "[encoded data removed]"
          },
          "metadata": {}
        }
      ]
    },
    {
      "cell_type": "code",
      "source": [],
      "metadata": {
        "id": "-9Clb753LKdJ"
      },
      "execution_count": null,
      "outputs": []
    }
  ],
  "metadata": {
    "accelerator": "GPU",
    "colab": {
      "provenance": []
    },
    "kernelspec": {
      "display_name": "Python 3",
      "name": "python3"
    },
    "gpuClass": "standard"
  },
  "nbformat": 4,
  "nbformat_minor": 0
}